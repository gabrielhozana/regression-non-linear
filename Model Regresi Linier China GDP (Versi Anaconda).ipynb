{
 "cells": [
  {
   "cell_type": "code",
   "execution_count": 1,
   "metadata": {},
   "outputs": [],
   "source": [
    "# Nama: Gabril Hozanna\n",
    "# Kelas: 3B TKJ\n",
    "# NIM: 42517042"
   ]
  },
  {
   "cell_type": "code",
   "execution_count": 2,
   "metadata": {},
   "outputs": [],
   "source": [
    "import pandas as pd\n",
    "from scipy.stats import pearsonr\n",
    "from matplotlib import pyplot as plt\n",
    "import numpy as np \n",
    "from sklearn import linear_model"
   ]
  },
  {
   "cell_type": "code",
   "execution_count": 3,
   "metadata": {},
   "outputs": [
    {
     "data": {
      "text/html": [
       "<div>\n",
       "<style scoped>\n",
       "    .dataframe tbody tr th:only-of-type {\n",
       "        vertical-align: middle;\n",
       "    }\n",
       "\n",
       "    .dataframe tbody tr th {\n",
       "        vertical-align: top;\n",
       "    }\n",
       "\n",
       "    .dataframe thead th {\n",
       "        text-align: right;\n",
       "    }\n",
       "</style>\n",
       "<table border=\"1\" class=\"dataframe\">\n",
       "  <thead>\n",
       "    <tr style=\"text-align: right;\">\n",
       "      <th></th>\n",
       "      <th>Year</th>\n",
       "      <th>Value</th>\n",
       "    </tr>\n",
       "  </thead>\n",
       "  <tbody>\n",
       "    <tr>\n",
       "      <th>0</th>\n",
       "      <td>1960</td>\n",
       "      <td>5.918412e+10</td>\n",
       "    </tr>\n",
       "    <tr>\n",
       "      <th>1</th>\n",
       "      <td>1961</td>\n",
       "      <td>4.955705e+10</td>\n",
       "    </tr>\n",
       "    <tr>\n",
       "      <th>2</th>\n",
       "      <td>1962</td>\n",
       "      <td>4.668518e+10</td>\n",
       "    </tr>\n",
       "    <tr>\n",
       "      <th>3</th>\n",
       "      <td>1963</td>\n",
       "      <td>5.009730e+10</td>\n",
       "    </tr>\n",
       "    <tr>\n",
       "      <th>4</th>\n",
       "      <td>1964</td>\n",
       "      <td>5.906225e+10</td>\n",
       "    </tr>\n",
       "  </tbody>\n",
       "</table>\n",
       "</div>"
      ],
      "text/plain": [
       "   Year         Value\n",
       "0  1960  5.918412e+10\n",
       "1  1961  4.955705e+10\n",
       "2  1962  4.668518e+10\n",
       "3  1963  5.009730e+10\n",
       "4  1964  5.906225e+10"
      ]
     },
     "execution_count": 3,
     "metadata": {},
     "output_type": "execute_result"
    }
   ],
   "source": [
    "df = pd.read_csv(\"china_gdp.csv\")\n",
    "df.head()"
   ]
  },
  {
   "cell_type": "code",
   "execution_count": 4,
   "metadata": {},
   "outputs": [
    {
     "data": {
      "text/html": [
       "<div>\n",
       "<style scoped>\n",
       "    .dataframe tbody tr th:only-of-type {\n",
       "        vertical-align: middle;\n",
       "    }\n",
       "\n",
       "    .dataframe tbody tr th {\n",
       "        vertical-align: top;\n",
       "    }\n",
       "\n",
       "    .dataframe thead th {\n",
       "        text-align: right;\n",
       "    }\n",
       "</style>\n",
       "<table border=\"1\" class=\"dataframe\">\n",
       "  <thead>\n",
       "    <tr style=\"text-align: right;\">\n",
       "      <th></th>\n",
       "      <th>Year</th>\n",
       "      <th>Value</th>\n",
       "    </tr>\n",
       "  </thead>\n",
       "  <tbody>\n",
       "    <tr>\n",
       "      <th>count</th>\n",
       "      <td>55.00000</td>\n",
       "      <td>5.500000e+01</td>\n",
       "    </tr>\n",
       "    <tr>\n",
       "      <th>mean</th>\n",
       "      <td>1987.00000</td>\n",
       "      <td>1.437042e+12</td>\n",
       "    </tr>\n",
       "    <tr>\n",
       "      <th>std</th>\n",
       "      <td>16.02082</td>\n",
       "      <td>2.500085e+12</td>\n",
       "    </tr>\n",
       "    <tr>\n",
       "      <th>min</th>\n",
       "      <td>1960.00000</td>\n",
       "      <td>4.668518e+10</td>\n",
       "    </tr>\n",
       "    <tr>\n",
       "      <th>25%</th>\n",
       "      <td>1973.50000</td>\n",
       "      <td>1.395123e+11</td>\n",
       "    </tr>\n",
       "    <tr>\n",
       "      <th>50%</th>\n",
       "      <td>1987.00000</td>\n",
       "      <td>3.074796e+11</td>\n",
       "    </tr>\n",
       "    <tr>\n",
       "      <th>75%</th>\n",
       "      <td>2000.50000</td>\n",
       "      <td>1.268748e+12</td>\n",
       "    </tr>\n",
       "    <tr>\n",
       "      <th>max</th>\n",
       "      <td>2014.00000</td>\n",
       "      <td>1.035483e+13</td>\n",
       "    </tr>\n",
       "  </tbody>\n",
       "</table>\n",
       "</div>"
      ],
      "text/plain": [
       "             Year         Value\n",
       "count    55.00000  5.500000e+01\n",
       "mean   1987.00000  1.437042e+12\n",
       "std      16.02082  2.500085e+12\n",
       "min    1960.00000  4.668518e+10\n",
       "25%    1973.50000  1.395123e+11\n",
       "50%    1987.00000  3.074796e+11\n",
       "75%    2000.50000  1.268748e+12\n",
       "max    2014.00000  1.035483e+13"
      ]
     },
     "execution_count": 4,
     "metadata": {},
     "output_type": "execute_result"
    }
   ],
   "source": [
    "df.describe()"
   ]
  },
  {
   "cell_type": "code",
   "execution_count": 5,
   "metadata": {},
   "outputs": [
    {
     "data": {
      "text/plain": [
       "55"
      ]
     },
     "execution_count": 5,
     "metadata": {},
     "output_type": "execute_result"
    }
   ],
   "source": [
    "len(df)"
   ]
  },
  {
   "cell_type": "code",
   "execution_count": 6,
   "metadata": {},
   "outputs": [
    {
     "data": {
      "image/png": "[encoded data removed]",
      "text/plain": [
       "<Figure size 576x360 with 1 Axes>"
      ]
     },
     "metadata": {
      "needs_background": "light"
     },
     "output_type": "display_data"
    }
   ],
   "source": [
    "plt.figure(figsize=(8,5))\n",
    "x_data, y_data = (df[\"Year\"].values, df[\"Value\"].values)\n",
    "plt.plot(x_data,y_data,'ro')\n",
    "plt.ylabel('GDP')\n",
    "plt.xlabel('Year')\n",
    "plt.show()"
   ]
  },
  {
   "cell_type": "code",
   "execution_count": 7,
   "metadata": {},
   "outputs": [],
   "source": [
    "#hasil visualisasi dari dataset bentuknya eksponensial\n",
    "#buat module/fungsi\n",
    "def sigmoid(x, beta_1, beta_2):\n",
    "    y = 1 / (1+np.exp(-beta_1*(x-beta_2)))\n",
    "    return y"
   ]
  },
  {
   "cell_type": "code",
   "execution_count": 8,
   "metadata": {},
   "outputs": [
    {
     "data": {
      "image/png": "[encoded data removed]",
      "text/plain": [
       "<Figure size 432x288 with 1 Axes>"
      ]
     },
     "metadata": {
      "needs_background": "light"
     },
     "output_type": "display_data"
    }
   ],
   "source": [
    "#testing model\n",
    "beta_1 = 0.1\n",
    "beta_2 = 1990.0\n",
    "\n",
    "#logistic function\n",
    "y_pred = sigmoid(x_data, beta_1, beta_2)\n",
    "\n",
    "#plot initial prediction against datapoint\n",
    "plt.plot(x_data,y_pred*15000000000000)\n",
    "plt.plot(x_data,y_data,'ro')\n",
    "plt.show()"
   ]
  },
  {
   "cell_type": "code",
   "execution_count": 9,
   "metadata": {},
   "outputs": [],
   "source": [
    "#normalisasi data\n",
    "x_norm = x_data/max(x_data)\n",
    "y_norm = y_data/max(y_data)"
   ]
  },
  {
   "cell_type": "code",
   "execution_count": 10,
   "metadata": {},
   "outputs": [
    {
     "name": "stdout",
     "output_type": "stream",
     "text": [
      "beta_1 = 690.451711, beta_2 = 0.997207\n"
     ]
    }
   ],
   "source": [
    "#menentukan nilai parameter\n",
    "from scipy.optimize import curve_fit\n",
    "popt, pcov = curve_fit(sigmoid, x_norm, y_norm)\n",
    "print(\"beta_1 = %f, beta_2 = %f\" % (popt[0], popt[1]))"
   ]
  },
  {
   "cell_type": "code",
   "execution_count": 11,
   "metadata": {},
   "outputs": [
    {
     "data": {
      "image/png": "[encoded data removed]",
      "text/plain": [
       "<Figure size 576x360 with 1 Axes>"
      ]
     },
     "metadata": {
      "needs_background": "light"
     },
     "output_type": "display_data"
    }
   ],
   "source": [
    "x = np.linspace(1960,2015, 55)\n",
    "x = x/max(x)\n",
    "plt.figure(figsize=(8,5))\n",
    "y = sigmoid(x, *popt)\n",
    "plt.plot(x_norm,y_norm,'ro', label='data')\n",
    "plt.plot(x,y, linewidth=3.0, label='fit')\n",
    "plt.legend(loc='best')\n",
    "plt.ylabel('GDP')\n",
    "plt.xlabel('Year')\n",
    "plt.show()"
   ]
  },
  {
   "cell_type": "code",
   "execution_count": 12,
   "metadata": {},
   "outputs": [
    {
     "data": {
      "text/plain": [
       "0.030498418832325392"
      ]
     },
     "execution_count": 12,
     "metadata": {},
     "output_type": "execute_result"
    }
   ],
   "source": [
    "from sklearn.metrics import mean_absolute_error\n",
    "mean_absolute_error(y_norm, y)"
   ]
  },
  {
   "cell_type": "code",
   "execution_count": 13,
   "metadata": {},
   "outputs": [
    {
     "data": {
      "text/plain": [
       "0.0015679266140117434"
      ]
     },
     "execution_count": 13,
     "metadata": {},
     "output_type": "execute_result"
    }
   ],
   "source": [
    "from sklearn.metrics import mean_squared_error\n",
    "mean_squared_error(y_norm, y)"
   ]
  },
  {
   "cell_type": "code",
   "execution_count": 14,
   "metadata": {
    "scrolled": true
   },
   "outputs": [
    {
     "data": {
      "text/plain": [
       "0.9726049983525928"
      ]
     },
     "execution_count": 14,
     "metadata": {},
     "output_type": "execute_result"
    }
   ],
   "source": [
    "from sklearn.metrics import r2_score\n",
    "r2_score(y_norm, y)"
   ]
  },
  {
   "cell_type": "code",
   "execution_count": 15,
   "metadata": {},
   "outputs": [],
   "source": [
    "#Membuat fungsi hitung MAE\n",
    "#x disini adalah y atau nilai dari y asli\n",
    "#y disini adalah y hasil prediksi\n",
    "def mae(x,y):\n",
    "    summation = 0 #variabel sigma\n",
    "    n = len(y)\n",
    "    \n",
    "    for i in range (0,n):\n",
    "        difference = x[i]-y[i]\n",
    "        absolute = abs(difference)\n",
    "        summation = summation + absolute\n",
    "    \n",
    "    summation = summation/n\n",
    "    return summation\n"
   ]
  },
  {
   "cell_type": "code",
   "execution_count": 16,
   "metadata": {},
   "outputs": [],
   "source": [
    "#Membuat fungsi hitung MSE\n",
    "#x disini adalah y atau nilai dari y asli\n",
    "#y disini adalah y hasil prediksi\n",
    "def mse(x,y): \n",
    "    summation = 0 #variabel untuk menyimpan penjumlahan perbedaan (sigma)\n",
    "    n = len(y) #banyaknya jumlah n atau item pada list\n",
    "    \n",
    "    for i in range (0,n):\n",
    "        difference = x[i] - y [i] \n",
    "        squared_difference = difference**2 #pangkat duakan dari kedua variabel\n",
    "        summation = summation + squared_difference #jumlah dari hasil perhitungan variabel\n",
    "    \n",
    "    summation = summation/n #banyaknya hasil perhitungan dibagi total nilai n\n",
    "    return summation"
   ]
  },
  {
   "cell_type": "code",
   "execution_count": 17,
   "metadata": {},
   "outputs": [],
   "source": [
    "#Membuat fungsi hitung R2\n",
    "#x disini adalah y atau nilai dari y asli\n",
    "#y disini adalah y hasil prediksi\n",
    "def r2(x,y):\n",
    "    summation = 0\n",
    "    n = len(y)\n",
    "    \n",
    "    for i in range(0,n):\n",
    "        difference_1 = x[i] - y[i]\n",
    "        squared_difference_1 = difference_1**2\n",
    "        summation_1 = summation + squared_difference_1 #cari niali sigma pertama\n",
    "#         n_y = summation + y[i] \n",
    "#         avg = n_y/n\n",
    "        avg = y[i]/n\n",
    "        difference_2 = x[i] - avg\n",
    "        squared_difference_2 = difference_2**2\n",
    "        summation_2 = summation + squared_difference_2 #cari nilai sigma kedua\n",
    "#         rse = 1 - summation_1/summation_2 #opsi 1\n",
    "        rse = summation_1/summation_2 #opsi 2\n",
    "    \n",
    "#     summation = rse #opsi 1\n",
    "    summation = 1- rse #opsi 2\n",
    "    return summation "
   ]
  },
  {
   "cell_type": "code",
   "execution_count": 18,
   "metadata": {},
   "outputs": [
    {
     "name": "stdout",
     "output_type": "stream",
     "text": [
      "Nilai MSE adalah:  0.0015679266140117432\n"
     ]
    }
   ],
   "source": [
    "n_mse = mse(y_norm, y)\n",
    "print (\"Nilai MSE adalah: \", n_mse)"
   ]
  },
  {
   "cell_type": "code",
   "execution_count": 19,
   "metadata": {},
   "outputs": [
    {
     "name": "stdout",
     "output_type": "stream",
     "text": [
      "Nilai MAE adalah:  0.030498418832325392\n"
     ]
    }
   ],
   "source": [
    "n_mae = mae(y_norm,y)\n",
    "print (\"Nilai MAE adalah: \", n_mae)"
   ]
  },
  {
   "cell_type": "code",
   "execution_count": 20,
   "metadata": {},
   "outputs": [
    {
     "name": "stdout",
     "output_type": "stream",
     "text": [
      "Nilai R2 adalah:  0.9833637840852391\n"
     ]
    }
   ],
   "source": [
    "n_r2 = r2(y_norm, y)\n",
    "print (\"Nilai R2 adalah: \", n_r2)"
   ]
  },
  {
   "cell_type": "code",
   "execution_count": 21,
   "metadata": {},
   "outputs": [],
   "source": [
    "# sum = 0\n",
    "# a = [1, 2, 3, 4] \n",
    "# l = len(y)\n",
    "# for i in range(0, l): \n",
    "#     sum +=  y[i]\n",
    "#     print(sum, end =\" \") \n",
    "    \n"
   ]
  },
  {
   "cell_type": "code",
   "execution_count": 22,
   "metadata": {},
   "outputs": [],
   "source": [
    "# print(l)  "
   ]
  },
  {
   "cell_type": "code",
   "execution_count": 23,
   "metadata": {},
   "outputs": [
    {
     "data": {
      "image/png": "[encoded data removed]",
      "text/plain": [
       "<Figure size 576x360 with 1 Axes>"
      ]
     },
     "metadata": {
      "needs_background": "light"
     },
     "output_type": "display_data"
    },
    {
     "name": "stdout",
     "output_type": "stream",
     "text": [
      "Data \n",
      " [0.04017461 0.04398028 0.04812837 0.05264615 0.05756237 0.0629072\n",
      " 0.06871212 0.07500983 0.08183402 0.08921918 0.09720027 0.10581235\n",
      " 0.1150902  0.12506778 0.13577762 0.14725022 0.15951328 0.17259092\n",
      " 0.18650281 0.20126331 0.21688056 0.23335561 0.25068155 0.26884278\n",
      " 0.28781437 0.30756158 0.3280396  0.34919349 0.37095844 0.39326023\n",
      " 0.41601608 0.43913567 0.46252248 0.48607538 0.50969029 0.53326203\n",
      " 0.55668619 0.57986097 0.60268891 0.62507847 0.64694544 0.66821398\n",
      " 0.68881757 0.70869946 0.72781301 0.74612171 0.76359889 0.78022732\n",
      " 0.79599858 0.81091235 0.82497557 0.83820154 0.85060906 0.8622215\n",
      " 0.87306599]\n"
     ]
    },
    {
     "data": {
      "text/plain": [
       "0.2654523797100489"
      ]
     },
     "execution_count": 23,
     "metadata": {},
     "output_type": "execute_result"
    }
   ],
   "source": [
    "#Prediksi Tahun 2015-2030\n",
    "x = np.linspace(2015,2030, 55)\n",
    "x2 = x\n",
    "x = x/max(x)\n",
    "plt.figure(figsize=(8,5))\n",
    "y = sigmoid(x, *popt)\n",
    "# plt.plot(x_norm,y_norm,'ro', label='data')\n",
    "plt.plot(x2,y, linewidth=3.0, label='Predict')\n",
    "plt.legend(loc='best')\n",
    "plt.ylabel('GDP')\n",
    "plt.xlabel('Year')\n",
    "plt.show()\n",
    "print(\"Data \\n\", y)\n",
    "# print(\"Data Asli\", y_norm)\n",
    "from sklearn.metrics import mean_absolute_error\n",
    "mean_absolute_error(y_norm, y)"
   ]
  },
  {
   "cell_type": "code",
   "execution_count": 24,
   "metadata": {},
   "outputs": [],
   "source": [
    "# msk = np.random.rand(len(df)) < 0.8\n",
    "# train_x = x_norm[msk]\n",
    "# test_x = x_norm[~msk]\n",
    "# train_y = y_norm[msk]\n",
    "# test_y = y_norm[~msk]\n",
    "\n",
    "# # build the model using train set\n",
    "# popt, pcov = curve_fit(sigmoid, train_x, train_y)\n",
    "\n",
    "# # predict using test set\n",
    "# y_hat = sigmoid(test_x, *popt)\n",
    "\n",
    "# plt.plot(test_x,y_hat, linewidth=3.0, label='Predict')\n",
    "# plt.legend(loc='best')\n",
    "# plt.ylabel('GDP')\n",
    "# plt.xlabel('Year')\n",
    "# plt.show()\n",
    "\n",
    "# # evaluation\n",
    "# print(\"Mean absolute error: %.2f\" % np.mean(np.absolute(y_hat - test_y)))\n",
    "# print(\"Residual sum of squares (MSE): %.2f\" % np.mean((y_hat - test_y) ** 2))\n",
    "# from sklearn.metrics import r2_score\n",
    "# print(\"R2-score: %.2f\" % r2_score(y_hat , test_y) )"
   ]
  },
  {
   "cell_type": "code",
   "execution_count": null,
   "metadata": {},
   "outputs": [],
   "source": []
  }
 ],
 "metadata": {
  "kernelspec": {
   "display_name": "Python 3",
   "language": "python",
   "name": "python3"
  },
  "language_info": {
   "codemirror_mode": {
    "name": "ipython",
    "version": 3
   },
   "file_extension": ".py",
   "mimetype": "text/x-python",
   "name": "python",
   "nbconvert_exporter": "python",
   "pygments_lexer": "ipython3",
   "version": "3.7.7"
  }
 },
 "nbformat": 4,
 "nbformat_minor": 4
}
