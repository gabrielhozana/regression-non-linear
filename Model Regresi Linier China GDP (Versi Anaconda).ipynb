{
 "cells": [
  {
   "cell_type": "code",
   "execution_count": 41,
   "metadata": {},
   "outputs": [],
   "source": [
    "# Nama: Gabril Hozanna\n",
    "# Kelas: 3B TKJ\n",
    "# NIM: 42517042"
   ]
  },
  {
   "cell_type": "code",
   "execution_count": 42,
   "metadata": {},
   "outputs": [],
   "source": [
    "import pandas as pd\n",
    "from scipy.stats import pearsonr\n",
    "from matplotlib import pyplot as plt\n",
    "import numpy as np \n",
    "from sklearn import linear_model"
   ]
  },
  {
   "cell_type": "code",
   "execution_count": 43,
   "metadata": {},
   "outputs": [
    {
     "data": {
      "text/html": [
       "<div>\n",
       "<style scoped>\n",
       "    .dataframe tbody tr th:only-of-type {\n",
       "        vertical-align: middle;\n",
       "    }\n",
       "\n",
       "    .dataframe tbody tr th {\n",
       "        vertical-align: top;\n",
       "    }\n",
       "\n",
       "    .dataframe thead th {\n",
       "        text-align: right;\n",
       "    }\n",
       "</style>\n",
       "<table border=\"1\" class=\"dataframe\">\n",
       "  <thead>\n",
       "    <tr style=\"text-align: right;\">\n",
       "      <th></th>\n",
       "      <th>Year</th>\n",
       "      <th>Value</th>\n",
       "    </tr>\n",
       "  </thead>\n",
       "  <tbody>\n",
       "    <tr>\n",
       "      <th>0</th>\n",
       "      <td>1960</td>\n",
       "      <td>5.918412e+10</td>\n",
       "    </tr>\n",
       "    <tr>\n",
       "      <th>1</th>\n",
       "      <td>1961</td>\n",
       "      <td>4.955705e+10</td>\n",
       "    </tr>\n",
       "    <tr>\n",
       "      <th>2</th>\n",
       "      <td>1962</td>\n",
       "      <td>4.668518e+10</td>\n",
       "    </tr>\n",
       "    <tr>\n",
       "      <th>3</th>\n",
       "      <td>1963</td>\n",
       "      <td>5.009730e+10</td>\n",
       "    </tr>\n",
       "    <tr>\n",
       "      <th>4</th>\n",
       "      <td>1964</td>\n",
       "      <td>5.906225e+10</td>\n",
       "    </tr>\n",
       "  </tbody>\n",
       "</table>\n",
       "</div>"
      ],
      "text/plain": [
       "   Year         Value\n",
       "0  1960  5.918412e+10\n",
       "1  1961  4.955705e+10\n",
       "2  1962  4.668518e+10\n",
       "3  1963  5.009730e+10\n",
       "4  1964  5.906225e+10"
      ]
     },
     "execution_count": 43,
     "metadata": {},
     "output_type": "execute_result"
    }
   ],
   "source": [
    "df = pd.read_csv(\"china_gdp.csv\")\n",
    "df.head()"
   ]
  },
  {
   "cell_type": "code",
   "execution_count": 44,
   "metadata": {},
   "outputs": [
    {
     "data": {
      "text/html": [
       "<div>\n",
       "<style scoped>\n",
       "    .dataframe tbody tr th:only-of-type {\n",
       "        vertical-align: middle;\n",
       "    }\n",
       "\n",
       "    .dataframe tbody tr th {\n",
       "        vertical-align: top;\n",
       "    }\n",
       "\n",
       "    .dataframe thead th {\n",
       "        text-align: right;\n",
       "    }\n",
       "</style>\n",
       "<table border=\"1\" class=\"dataframe\">\n",
       "  <thead>\n",
       "    <tr style=\"text-align: right;\">\n",
       "      <th></th>\n",
       "      <th>Year</th>\n",
       "      <th>Value</th>\n",
       "    </tr>\n",
       "  </thead>\n",
       "  <tbody>\n",
       "    <tr>\n",
       "      <th>count</th>\n",
       "      <td>55.00000</td>\n",
       "      <td>5.500000e+01</td>\n",
       "    </tr>\n",
       "    <tr>\n",
       "      <th>mean</th>\n",
       "      <td>1987.00000</td>\n",
       "      <td>1.437042e+12</td>\n",
       "    </tr>\n",
       "    <tr>\n",
       "      <th>std</th>\n",
       "      <td>16.02082</td>\n",
       "      <td>2.500085e+12</td>\n",
       "    </tr>\n",
       "    <tr>\n",
       "      <th>min</th>\n",
       "      <td>1960.00000</td>\n",
       "      <td>4.668518e+10</td>\n",
       "    </tr>\n",
       "    <tr>\n",
       "      <th>25%</th>\n",
       "      <td>1973.50000</td>\n",
       "      <td>1.395123e+11</td>\n",
       "    </tr>\n",
       "    <tr>\n",
       "      <th>50%</th>\n",
       "      <td>1987.00000</td>\n",
       "      <td>3.074796e+11</td>\n",
       "    </tr>\n",
       "    <tr>\n",
       "      <th>75%</th>\n",
       "      <td>2000.50000</td>\n",
       "      <td>1.268748e+12</td>\n",
       "    </tr>\n",
       "    <tr>\n",
       "      <th>max</th>\n",
       "      <td>2014.00000</td>\n",
       "      <td>1.035483e+13</td>\n",
       "    </tr>\n",
       "  </tbody>\n",
       "</table>\n",
       "</div>"
      ],
      "text/plain": [
       "             Year         Value\n",
       "count    55.00000  5.500000e+01\n",
       "mean   1987.00000  1.437042e+12\n",
       "std      16.02082  2.500085e+12\n",
       "min    1960.00000  4.668518e+10\n",
       "25%    1973.50000  1.395123e+11\n",
       "50%    1987.00000  3.074796e+11\n",
       "75%    2000.50000  1.268748e+12\n",
       "max    2014.00000  1.035483e+13"
      ]
     },
     "execution_count": 44,
     "metadata": {},
     "output_type": "execute_result"
    }
   ],
   "source": [
    "df.describe()"
   ]
  },
  {
   "cell_type": "code",
   "execution_count": 45,
   "metadata": {},
   "outputs": [
    {
     "data": {
      "text/plain": [
       "55"
      ]
     },
     "execution_count": 45,
     "metadata": {},
     "output_type": "execute_result"
    }
   ],
   "source": [
    "len(df)"
   ]
  },
  {
   "cell_type": "code",
   "execution_count": 46,
   "metadata": {},
   "outputs": [
    {
     "data": {
      "image/png": "[encoded data removed]",
      "text/plain": [
       "<Figure size 576x360 with 1 Axes>"
      ]
     },
     "metadata": {
      "needs_background": "light"
     },
     "output_type": "display_data"
    }
   ],
   "source": [
    "plt.figure(figsize=(8,5))\n",
    "x_data, y_data = (df[\"Year\"].values, df[\"Value\"].values)\n",
    "plt.plot(x_data,y_data,'ro')\n",
    "plt.ylabel('GDP')\n",
    "plt.xlabel('Year')\n",
    "plt.show()"
   ]
  },
  {
   "cell_type": "code",
   "execution_count": 47,
   "metadata": {},
   "outputs": [],
   "source": [
    "#hasil visualisasi dari dataset bentuknya eksponensial\n",
    "#buat module/fungsi\n",
    "def sigmoid(x, beta_1, beta_2):\n",
    "    y = 1 / (1+np.exp(-beta_1*(x-beta_2)))\n",
    "    return y"
   ]
  },
  {
   "cell_type": "code",
   "execution_count": 48,
   "metadata": {},
   "outputs": [
    {
     "data": {
      "image/png": "[encoded data removed]",
      "text/plain": [
       "<Figure size 432x288 with 1 Axes>"
      ]
     },
     "metadata": {
      "needs_background": "light"
     },
     "output_type": "display_data"
    }
   ],
   "source": [
    "#testing model\n",
    "beta_1 = 0.1\n",
    "beta_2 = 1990.0\n",
    "\n",
    "#logistic function\n",
    "y_pred = sigmoid(x_data, beta_1, beta_2)\n",
    "\n",
    "#plot initial prediction against datapoint\n",
    "plt.plot(x_data,y_pred*15000000000000)\n",
    "plt.plot(x_data,y_data,'ro')\n",
    "plt.show()"
   ]
  },
  {
   "cell_type": "code",
   "execution_count": 49,
   "metadata": {},
   "outputs": [],
   "source": [
    "#normalisasi data\n",
    "x_norm = x_data/max(x_data)\n",
    "y_norm = y_data/max(y_data)"
   ]
  },
  {
   "cell_type": "code",
   "execution_count": 50,
   "metadata": {},
   "outputs": [
    {
     "name": "stdout",
     "output_type": "stream",
     "text": [
      "beta_1 = 690.451711, beta_2 = 0.997207\n"
     ]
    }
   ],
   "source": [
    "#menentukan nilai parameter\n",
    "from scipy.optimize import curve_fit\n",
    "popt, pcov = curve_fit(sigmoid, x_norm, y_norm)\n",
    "print(\"beta_1 = %f, beta_2 = %f\" % (popt[0], popt[1]))"
   ]
  },
  {
   "cell_type": "code",
   "execution_count": 51,
   "metadata": {},
   "outputs": [
    {
     "data": {
      "image/png": "[encoded data removed]",
      "text/plain": [
       "<Figure size 576x360 with 1 Axes>"
      ]
     },
     "metadata": {
      "needs_background": "light"
     },
     "output_type": "display_data"
    }
   ],
   "source": [
    "x = np.linspace(1960,2015, 55)\n",
    "x = x/max(x)\n",
    "plt.figure(figsize=(8,5))\n",
    "y = sigmoid(x, *popt)\n",
    "plt.plot(x_norm,y_norm,'ro', label='data')\n",
    "plt.plot(x,y, linewidth=3.0, label='fit')\n",
    "plt.legend(loc='best')\n",
    "plt.ylabel('GDP')\n",
    "plt.xlabel('Year')\n",
    "plt.show()"
   ]
  },
  {
   "cell_type": "code",
   "execution_count": 52,
   "metadata": {},
   "outputs": [
    {
     "data": {
      "text/plain": [
       "0.030498418832325392"
      ]
     },
     "execution_count": 52,
     "metadata": {},
     "output_type": "execute_result"
    }
   ],
   "source": [
    "from sklearn.metrics import mean_absolute_error\n",
    "mean_absolute_error(y_norm, y)"
   ]
  },
  {
   "cell_type": "code",
   "execution_count": 53,
   "metadata": {},
   "outputs": [
    {
     "data": {
      "text/plain": [
       "0.0015679266140117434"
      ]
     },
     "execution_count": 53,
     "metadata": {},
     "output_type": "execute_result"
    }
   ],
   "source": [
    "from sklearn.metrics import mean_squared_error\n",
    "mean_squared_error(y_norm, y)"
   ]
  },
  {
   "cell_type": "code",
   "execution_count": 54,
   "metadata": {
    "scrolled": true
   },
   "outputs": [
    {
     "data": {
      "text/plain": [
       "0.9726049983525928"
      ]
     },
     "execution_count": 54,
     "metadata": {},
     "output_type": "execute_result"
    }
   ],
   "source": [
    "from sklearn.metrics import r2_score\n",
    "r2_score(y_norm, y)"
   ]
  },
  {
   "cell_type": "code",
   "execution_count": 55,
   "metadata": {},
   "outputs": [],
   "source": [
    "#Membuat fungsi hitung MAE\n",
    "#x disini adalah y atau nilai dari y asli\n",
    "#y disini adalah y hasil prediksi\n",
    "def mae(x,y):\n",
    "    summation = 0 #variabel sigma\n",
    "    n = len(y)\n",
    "    \n",
    "    for i in range (0,n):\n",
    "        difference = x[i]-y[i]\n",
    "        absolute = abs(difference)\n",
    "        summation = summation + absolute\n",
    "    \n",
    "    summation = summation/n\n",
    "    return summation\n"
   ]
  },
  {
   "cell_type": "code",
   "execution_count": 56,
   "metadata": {},
   "outputs": [],
   "source": [
    "#Membuat fungsi hitung MSE\n",
    "#x disini adalah y atau nilai dari y asli\n",
    "#y disini adalah y hasil prediksi\n",
    "def mse(x,y): \n",
    "    summation = 0 #variabel untuk menyimpan penjumlahan perbedaan (sigma)\n",
    "    n = len(y) #banyaknya jumlah n atau item pada list\n",
    "    \n",
    "    for i in range (0,n):\n",
    "        difference = x[i] - y [i] \n",
    "        squared_difference = difference**2 #pangkat duakan dari kedua variabel\n",
    "        summation = summation + squared_difference #jumlah dari hasil perhitungan variabel\n",
    "    \n",
    "    summation = summation/n #banyaknya hasil perhitungan dibagi total nilai n\n",
    "    return summation"
   ]
  },
  {
   "cell_type": "code",
   "execution_count": 57,
   "metadata": {},
   "outputs": [],
   "source": [
    "#Membuat fungsi hitung R2\n",
    "#x disini adalah y atau nilai dari y asli\n",
    "#y disini adalah y hasil prediksi\n",
    "def r2(x,y):\n",
    "    summation = 0\n",
    "    n = len(y)\n",
    "    \n",
    "    for i in range(0,n):\n",
    "        difference_1 = x[i] - y[i]\n",
    "        squared_difference_1 = difference_1**2\n",
    "        summation_1 = summation + squared_difference_1 #cari niali sigma pertama\n",
    "#         n_y = summation + y[i] \n",
    "#         avg = n_y/n\n",
    "        avg = y[i]/n\n",
    "        difference_2 = x[i] - avg\n",
    "        squared_difference_2 = difference_2**2\n",
    "        summation_2 = summation + squared_difference_2 #cari nilai sigma kedua\n",
    "#         rse = 1 - summation_1/summation_2 #opsi 1\n",
    "        rse = summation_1/summation_2 #opsi 2\n",
    "    \n",
    "#     summation = rse #opsi 1\n",
    "    summation = 1- rse #opsi 2\n",
    "    return summation "
   ]
  },
  {
   "cell_type": "code",
   "execution_count": 58,
   "metadata": {},
   "outputs": [
    {
     "name": "stdout",
     "output_type": "stream",
     "text": [
      "Nilai MSE adalah:  0.0015679266140117432\n"
     ]
    }
   ],
   "source": [
    "n_mse = mse(y_norm, y)\n",
    "print (\"Nilai MSE adalah: \", n_mse)"
   ]
  },
  {
   "cell_type": "code",
   "execution_count": 59,
   "metadata": {},
   "outputs": [
    {
     "name": "stdout",
     "output_type": "stream",
     "text": [
      "Nilai MAE adalah:  0.030498418832325392\n"
     ]
    }
   ],
   "source": [
    "n_mae = mae(y_norm,y)\n",
    "print (\"Nilai MAE adalah: \", n_mae)"
   ]
  },
  {
   "cell_type": "code",
   "execution_count": 60,
   "metadata": {},
   "outputs": [
    {
     "name": "stdout",
     "output_type": "stream",
     "text": [
      "Nilai R2 adalah:  0.9833637840852391\n"
     ]
    }
   ],
   "source": [
    "n_r2 = r2(y_norm, y)\n",
    "print (\"Nilai R2 adalah: \", n_r2)"
   ]
  },
  {
   "cell_type": "code",
   "execution_count": 61,
   "metadata": {},
   "outputs": [],
   "source": [
    "# sum = 0\n",
    "# a = [1, 2, 3, 4] \n",
    "# l = len(y)\n",
    "# for i in range(0, l): \n",
    "#     sum +=  y[i]\n",
    "#     print(sum, end =\" \") \n",
    "    \n"
   ]
  },
  {
   "cell_type": "code",
   "execution_count": 62,
   "metadata": {},
   "outputs": [],
   "source": [
    "# print(l)  "
   ]
  },
  {
   "cell_type": "code",
   "execution_count": 63,
   "metadata": {},
   "outputs": [
    {
     "data": {
      "image/png": "[encoded data removed]",
      "text/plain": [
       "<Figure size 576x360 with 1 Axes>"
      ]
     },
     "metadata": {
      "needs_background": "light"
     },
     "output_type": "display_data"
    },
    {
     "name": "stdout",
     "output_type": "stream",
     "text": [
      "Data Prediksi:\n",
      " [0.90646102 0.91422893 0.92140769 0.92803291 0.93413955 0.93976165\n",
      " 0.94493213 0.94968256 0.95404313 0.9580425  0.9617078  0.96506458\n",
      " 0.96813685 0.97094708 0.97351623 0.97586384 0.97800805 0.97996568\n",
      " 0.9817523  0.9833823  0.98486894 0.98622445 0.98746007 0.98858614\n",
      " 0.98961216 0.99054682 0.99139812 0.99217337 0.99287924 0.99352187\n",
      " 0.99410685 0.99463929 0.99512386 0.99556482 0.99596607 0.99633115\n",
      " 0.9966633  0.99696547 0.99724035 0.9974904  0.99771784 0.99792471\n",
      " 0.99811287 0.99828399 0.99843962 0.99858116 0.99870988 0.99882693\n",
      " 0.99893337 0.99903016 0.99911818 0.99919822 0.999271   0.99933717\n",
      " 0.99939734]\n",
      "\n",
      "MSE dari Prediksi 2015-2030 adalah: \n"
     ]
    },
    {
     "data": {
      "text/plain": [
       "0.8417388454032411"
      ]
     },
     "execution_count": 63,
     "metadata": {},
     "output_type": "execute_result"
    }
   ],
   "source": [
    "#Prediksi Tahun 2015-2030\n",
    "x_pred = np.linspace(2015,2030, 55)\n",
    "# x2 = x_pred\n",
    "x_pred = x_pred/max(x_data)\n",
    "plt.figure(figsize=(8,5))\n",
    "y = sigmoid(x_pred, *popt)\n",
    "# plt.plot(x_norm,y_norm,'ro', label='data')\n",
    "plt.plot(x_pred,y, linewidth=3.0, label='Predict')\n",
    "plt.legend(loc='best')\n",
    "plt.ylabel('GDP')\n",
    "plt.xlabel('Year')\n",
    "plt.show()\n",
    "print(\"Data Prediksi:\\n\", y)\n",
    "# print(\"Data Asli\", y_norm)\n",
    "print(\"\\nMSE dari Prediksi 2015-2030 adalah: \")\n",
    "from sklearn.metrics import mean_absolute_error\n",
    "mean_absolute_error(y_norm, y)"
   ]
  },
  {
   "cell_type": "code",
   "execution_count": null,
   "metadata": {},
   "outputs": [],
   "source": []
  },
  {
   "cell_type": "code",
   "execution_count": null,
   "metadata": {},
   "outputs": [],
   "source": []
  },
  {
   "cell_type": "code",
   "execution_count": null,
   "metadata": {},
   "outputs": [],
   "source": []
  }
 ],
 "metadata": {
  "kernelspec": {
   "display_name": "Python 3",
   "language": "python",
   "name": "python3"
  },
  "language_info": {
   "codemirror_mode": {
    "name": "ipython",
    "version": 3
   },
   "file_extension": ".py",
   "mimetype": "text/x-python",
   "name": "python",
   "nbconvert_exporter": "python",
   "pygments_lexer": "ipython3",
   "version": "3.7.7"
  }
 },
 "nbformat": 4,
 "nbformat_minor": 4
}
