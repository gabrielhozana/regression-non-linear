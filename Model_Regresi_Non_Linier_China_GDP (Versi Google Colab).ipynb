{
  "nbformat": 4,
  "nbformat_minor": 0,
  "metadata": {
    "colab": {
      "name": "Model Regresi Non-Linier China GDP .ipynb",
      "provenance": [],
      "collapsed_sections": []
    },
    "kernelspec": {
      "name": "python3",
      "display_name": "Python 3"
    }
  },
  "cells": [
    {
      "cell_type": "code",
      "metadata": {
        "id": "twB1tVR_2RAa"
      },
      "source": [
        "# Nama: Gabril Hozanna\n",
        "# Kelas: 3B TKJ\n",
        "# NIM: 42517042\n",
        "\n",
        "import pandas as pd\n",
        "from scipy.stats import pearsonr\n",
        "from matplotlib import pyplot as plt\n",
        "import numpy as np \n",
        "from sklearn import linear_model"
      ],
      "execution_count": null,
      "outputs": []
    },
    {
      "cell_type": "code",
      "metadata": {
        "colab": {
          "base_uri": "https://localhost:8080/",
          "height": 206
        },
        "id": "q1pCoaHk3faP",
        "outputId": "46897a13-02a8-49d5-a480-bf5aeb694101"
      },
      "source": [
        "df = pd.read_csv(\"china_gdp.csv\")\n",
        "df.head()"
      ],
      "execution_count": null,
      "outputs": [
        {
          "output_type": "execute_result",
          "data": {
            "text/html": [
              "<div>\n",
              "<style scoped>\n",
              "    .dataframe tbody tr th:only-of-type {\n",
              "        vertical-align: middle;\n",
              "    }\n",
              "\n",
              "    .dataframe tbody tr th {\n",
              "        vertical-align: top;\n",
              "    }\n",
              "\n",
              "    .dataframe thead th {\n",
              "        text-align: right;\n",
              "    }\n",
              "</style>\n",
              "<table border=\"1\" class=\"dataframe\">\n",
              "  <thead>\n",
              "    <tr style=\"text-align: right;\">\n",
              "      <th></th>\n",
              "      <th>Year</th>\n",
              "      <th>Value</th>\n",
              "    </tr>\n",
              "  </thead>\n",
              "  <tbody>\n",
              "    <tr>\n",
              "      <th>0</th>\n",
              "      <td>1960</td>\n",
              "      <td>5.918412e+10</td>\n",
              "    </tr>\n",
              "    <tr>\n",
              "      <th>1</th>\n",
              "      <td>1961</td>\n",
              "      <td>4.955705e+10</td>\n",
              "    </tr>\n",
              "    <tr>\n",
              "      <th>2</th>\n",
              "      <td>1962</td>\n",
              "      <td>4.668518e+10</td>\n",
              "    </tr>\n",
              "    <tr>\n",
              "      <th>3</th>\n",
              "      <td>1963</td>\n",
              "      <td>5.009730e+10</td>\n",
              "    </tr>\n",
              "    <tr>\n",
              "      <th>4</th>\n",
              "      <td>1964</td>\n",
              "      <td>5.906225e+10</td>\n",
              "    </tr>\n",
              "  </tbody>\n",
              "</table>\n",
              "</div>"
            ],
            "text/plain": [
              "   Year         Value\n",
              "0  1960  5.918412e+10\n",
              "1  1961  4.955705e+10\n",
              "2  1962  4.668518e+10\n",
              "3  1963  5.009730e+10\n",
              "4  1964  5.906225e+10"
            ]
          },
          "metadata": {
            "tags": []
          },
          "execution_count": 2
        }
      ]
    },
    {
      "cell_type": "code",
      "metadata": {
        "colab": {
          "base_uri": "https://localhost:8080/",
          "height": 300
        },
        "id": "pGaYzFA_4FIn",
        "outputId": "79e37e0d-e56d-488f-b203-26a3d6c9abe1"
      },
      "source": [
        "df.describe()"
      ],
      "execution_count": null,
      "outputs": [
        {
          "output_type": "execute_result",
          "data": {
            "text/html": [
              "<div>\n",
              "<style scoped>\n",
              "    .dataframe tbody tr th:only-of-type {\n",
              "        vertical-align: middle;\n",
              "    }\n",
              "\n",
              "    .dataframe tbody tr th {\n",
              "        vertical-align: top;\n",
              "    }\n",
              "\n",
              "    .dataframe thead th {\n",
              "        text-align: right;\n",
              "    }\n",
              "</style>\n",
              "<table border=\"1\" class=\"dataframe\">\n",
              "  <thead>\n",
              "    <tr style=\"text-align: right;\">\n",
              "      <th></th>\n",
              "      <th>Year</th>\n",
              "      <th>Value</th>\n",
              "    </tr>\n",
              "  </thead>\n",
              "  <tbody>\n",
              "    <tr>\n",
              "      <th>count</th>\n",
              "      <td>55.00000</td>\n",
              "      <td>5.500000e+01</td>\n",
              "    </tr>\n",
              "    <tr>\n",
              "      <th>mean</th>\n",
              "      <td>1987.00000</td>\n",
              "      <td>1.437042e+12</td>\n",
              "    </tr>\n",
              "    <tr>\n",
              "      <th>std</th>\n",
              "      <td>16.02082</td>\n",
              "      <td>2.500085e+12</td>\n",
              "    </tr>\n",
              "    <tr>\n",
              "      <th>min</th>\n",
              "      <td>1960.00000</td>\n",
              "      <td>4.668518e+10</td>\n",
              "    </tr>\n",
              "    <tr>\n",
              "      <th>25%</th>\n",
              "      <td>1973.50000</td>\n",
              "      <td>1.395123e+11</td>\n",
              "    </tr>\n",
              "    <tr>\n",
              "      <th>50%</th>\n",
              "      <td>1987.00000</td>\n",
              "      <td>3.074796e+11</td>\n",
              "    </tr>\n",
              "    <tr>\n",
              "      <th>75%</th>\n",
              "      <td>2000.50000</td>\n",
              "      <td>1.268748e+12</td>\n",
              "    </tr>\n",
              "    <tr>\n",
              "      <th>max</th>\n",
              "      <td>2014.00000</td>\n",
              "      <td>1.035483e+13</td>\n",
              "    </tr>\n",
              "  </tbody>\n",
              "</table>\n",
              "</div>"
            ],
            "text/plain": [
              "             Year         Value\n",
              "count    55.00000  5.500000e+01\n",
              "mean   1987.00000  1.437042e+12\n",
              "std      16.02082  2.500085e+12\n",
              "min    1960.00000  4.668518e+10\n",
              "25%    1973.50000  1.395123e+11\n",
              "50%    1987.00000  3.074796e+11\n",
              "75%    2000.50000  1.268748e+12\n",
              "max    2014.00000  1.035483e+13"
            ]
          },
          "metadata": {
            "tags": []
          },
          "execution_count": 3
        }
      ]
    },
    {
      "cell_type": "code",
      "metadata": {
        "colab": {
          "base_uri": "https://localhost:8080/"
        },
        "id": "9S7jt-MN4IuU",
        "outputId": "5dba02a5-602b-449e-bf9b-d1cf669e4615"
      },
      "source": [
        "len(df)"
      ],
      "execution_count": null,
      "outputs": [
        {
          "output_type": "execute_result",
          "data": {
            "text/plain": [
              "55"
            ]
          },
          "metadata": {
            "tags": []
          },
          "execution_count": 4
        }
      ]
    },
    {
      "cell_type": "code",
      "metadata": {
        "colab": {
          "base_uri": "https://localhost:8080/",
          "height": 345
        },
        "id": "p_Sa7uj24KKZ",
        "outputId": "78ef2e91-9de1-41dc-9dcb-959b25a830cd"
      },
      "source": [
        "plt.figure(figsize=(8,5))\n",
        "x_data, y_data = (df[\"Year\"].values, df[\"Value\"].values)\n",
        "plt.plot(x_data,y_data,'ro')\n",
        "plt.ylabel('GDP')\n",
        "plt.xlabel('Year')\n",
        "plt.show()"
      ],
      "execution_count": null,
      "outputs": [
        {
          "output_type": "display_data",
          "data": {
            "image/png": "[encoded data removed]",
            "text/plain": [
              "<Figure size 576x360 with 1 Axes>"
            ]
          },
          "metadata": {
            "tags": [],
            "needs_background": "light"
          }
        }
      ]
    },
    {
      "cell_type": "code",
      "metadata": {
        "id": "owFALbfA4Lez"
      },
      "source": [
        "#hasil visualisasi dari dataset bentuknya eksponensial\n",
        "#buat module/fungsi\n",
        "def sigmoid(x, beta_1, beta_2):\n",
        "    y = 1 / (1+np.exp(-beta_1*(x-beta_2)))\n",
        "    return y"
      ],
      "execution_count": null,
      "outputs": []
    },
    {
      "cell_type": "code",
      "metadata": {
        "colab": {
          "base_uri": "https://localhost:8080/",
          "height": 276
        },
        "id": "hbdBje5Z4M9H",
        "outputId": "de7d1485-b077-4523-e8fc-21068f029869"
      },
      "source": [
        "#testing model\n",
        "beta_1 = 0.1\n",
        "beta_2 = 1990.0\n",
        "\n",
        "#logistic function\n",
        "y_pred = sigmoid(x_data, beta_1, beta_2)\n",
        "\n",
        "#plot initial prediction against datapoint\n",
        "plt.plot(x_data,y_pred*15000000000000)\n",
        "plt.plot(x_data,y_data,'ro')\n",
        "plt.show()"
      ],
      "execution_count": null,
      "outputs": [
        {
          "output_type": "display_data",
          "data": {
            "image/png": "[encoded data removed]",
            "text/plain": [
              "<Figure size 432x288 with 1 Axes>"
            ]
          },
          "metadata": {
            "tags": [],
            "needs_background": "light"
          }
        }
      ]
    },
    {
      "cell_type": "code",
      "metadata": {
        "id": "8JbbVb-M4Phi"
      },
      "source": [
        "#normalisasi data\n",
        "x_norm = x_data/max(x_data)\n",
        "y_norm = y_data/max(y_data)"
      ],
      "execution_count": null,
      "outputs": []
    },
    {
      "cell_type": "code",
      "metadata": {
        "colab": {
          "base_uri": "https://localhost:8080/"
        },
        "id": "4Wu_V8DS4RP7",
        "outputId": "c5831245-55e3-41a1-8abf-22bb04d77f1a"
      },
      "source": [
        "#menentukan nilai parameter\n",
        "from scipy.optimize import curve_fit\n",
        "popt, pcov = curve_fit(sigmoid, x_norm, y_norm)\n",
        "print(\"beta_1 = %f, beta_2 = %f\" % (popt[0], popt[1]))"
      ],
      "execution_count": null,
      "outputs": [
        {
          "output_type": "stream",
          "text": [
            "beta_1 = 690.453017, beta_2 = 0.997207\n"
          ],
          "name": "stdout"
        }
      ]
    },
    {
      "cell_type": "code",
      "metadata": {
        "colab": {
          "base_uri": "https://localhost:8080/",
          "height": 334
        },
        "id": "x2IUiGXz4Sap",
        "outputId": "31cbe9ff-c86f-4300-d8c0-a6f2df1219ff"
      },
      "source": [
        "x = np.linspace(1960,2015, 55)\n",
        "x = x/max(x)\n",
        "plt.figure(figsize=(8,5))\n",
        "y = sigmoid(x, *popt)\n",
        "plt.plot(x_norm,y_norm,'ro', label='data')\n",
        "plt.plot(x,y, linewidth=3.0, label='fit')\n",
        "plt.legend(loc='best')\n",
        "plt.ylabel('GDP')\n",
        "plt.xlabel('Year')\n",
        "plt.show()"
      ],
      "execution_count": null,
      "outputs": [
        {
          "output_type": "display_data",
          "data": {
            "image/png": "[encoded data removed]",
            "text/plain": [
              "<Figure size 576x360 with 1 Axes>"
            ]
          },
          "metadata": {
            "tags": [],
            "needs_background": "light"
          }
        }
      ]
    },
    {
      "cell_type": "code",
      "metadata": {
        "colab": {
          "base_uri": "https://localhost:8080/"
        },
        "id": "1cMM4RD04Uvw",
        "outputId": "dd855bb6-23af-495d-d81d-094920aca788"
      },
      "source": [
        "from sklearn.metrics import mean_absolute_error\n",
        "mean_absolute_error(y_norm, y)"
      ],
      "execution_count": null,
      "outputs": [
        {
          "output_type": "execute_result",
          "data": {
            "text/plain": [
              "0.030498423714796833"
            ]
          },
          "metadata": {
            "tags": []
          },
          "execution_count": 11
        }
      ]
    },
    {
      "cell_type": "code",
      "metadata": {
        "colab": {
          "base_uri": "https://localhost:8080/"
        },
        "id": "PAvbrklW4XWI",
        "outputId": "c14a49a1-2884-4007-c985-d58567e0cdaa"
      },
      "source": [
        "from sklearn.metrics import mean_squared_error\n",
        "mean_squared_error(y_norm, y)"
      ],
      "execution_count": null,
      "outputs": [
        {
          "output_type": "execute_result",
          "data": {
            "text/plain": [
              "0.0015679275027813092"
            ]
          },
          "metadata": {
            "tags": []
          },
          "execution_count": 12
        }
      ]
    },
    {
      "cell_type": "code",
      "metadata": {
        "colab": {
          "base_uri": "https://localhost:8080/"
        },
        "id": "DcwyhT1q4Yst",
        "outputId": "c65daa8f-318e-4376-917f-8fa28eb424f5"
      },
      "source": [
        "from sklearn.metrics import r2_score\n",
        "r2_score(y_norm, y)"
      ],
      "execution_count": null,
      "outputs": [
        {
          "output_type": "execute_result",
          "data": {
            "text/plain": [
              "0.9726049828239046"
            ]
          },
          "metadata": {
            "tags": []
          },
          "execution_count": 13
        }
      ]
    },
    {
      "cell_type": "code",
      "metadata": {
        "id": "XHWhgHbe4Zwh"
      },
      "source": [
        "#Membuat fungsi hitung MAE\n",
        "#x disini adalah y atau nilai dari y asli\n",
        "#y disini adalah y hasil prediksi\n",
        "def mae(x,y):\n",
        "    summation = 0 #variabel sigma\n",
        "    n = len(y)\n",
        "    \n",
        "    for i in range (0,n):\n",
        "        difference = x[i]-y[i]\n",
        "        absolute = abs(difference)\n",
        "        summation = summation + absolute\n",
        "    \n",
        "    summation = summation/n\n",
        "    return summation\n"
      ],
      "execution_count": null,
      "outputs": []
    },
    {
      "cell_type": "code",
      "metadata": {
        "id": "Z-6LcRRd4fX5"
      },
      "source": [
        "#Membuat fungsi hitung MSE\n",
        "#x disini adalah y atau nilai dari y asli\n",
        "#y disini adalah y hasil prediksi\n",
        "def mse(x,y): \n",
        "    summation = 0 #variabel untuk menyimpan penjumlahan perbedaan (sigma)\n",
        "    n = len(y) #banyaknya jumlah n atau item pada list\n",
        "    \n",
        "    for i in range (0,n):\n",
        "        difference = x[i] - y [i] \n",
        "        squared_difference = difference**2 #pangkat duakan dari kedua variabel\n",
        "        summation = summation + squared_difference #jumlah dari hasil perhitungan variabel\n",
        "    \n",
        "    summation = summation/n #banyaknya hasil perhitungan dibagi total nilai n\n",
        "    return summation"
      ],
      "execution_count": null,
      "outputs": []
    },
    {
      "cell_type": "code",
      "metadata": {
        "id": "7g1JxkbF4jMb"
      },
      "source": [
        "#Membuat fungsi hitung R2\n",
        "#x disini adalah y atau nilai dari y asli\n",
        "#y disini adalah y hasil prediksi\n",
        "def r2(x,y):\n",
        "    summation = 0\n",
        "    n = len(y)\n",
        "    \n",
        "    for i in range(0,n):\n",
        "        difference_1 = x[i] - y[i]\n",
        "        squared_difference_1 = difference_1**2\n",
        "        summation_1 = summation + squared_difference_1 #cari niali sigma pertama\n",
        "#         n_y = summation + y[i] \n",
        "#         avg = n_y/n\n",
        "        avg = y[i]/n\n",
        "        difference_2 = x[i] - avg\n",
        "        squared_difference_2 = difference_2**2\n",
        "        summation_2 = summation + squared_difference_2 #cari nilai sigma kedua\n",
        "#         rse = 1 - summation_1/summation_2 #opsi 1\n",
        "        rse = summation_1/summation_2 #opsi 2\n",
        "    \n",
        "#     summation = rse #opsi 1\n",
        "    summation = 1- rse #opsi 2\n",
        "    return summation "
      ],
      "execution_count": null,
      "outputs": []
    },
    {
      "cell_type": "code",
      "metadata": {
        "colab": {
          "base_uri": "https://localhost:8080/"
        },
        "id": "lHzsKDo94pB1",
        "outputId": "5baf2985-0158-4a64-fe45-360dc259612e"
      },
      "source": [
        "n_mse = mse(y_norm, y)\n",
        "print (\"Nilai MSE adalah: \", n_mse)"
      ],
      "execution_count": null,
      "outputs": [
        {
          "output_type": "stream",
          "text": [
            "Nilai MSE adalah:  0.0015679275027813092\n"
          ],
          "name": "stdout"
        }
      ]
    },
    {
      "cell_type": "code",
      "metadata": {
        "colab": {
          "base_uri": "https://localhost:8080/"
        },
        "id": "wXN--vgw4qbf",
        "outputId": "6a68d614-2b75-48e8-f96a-755a6be8df5e"
      },
      "source": [
        "n_mae = mae(y_norm,y)\n",
        "print (\"Nilai MAE adalah: \", n_mae)"
      ],
      "execution_count": null,
      "outputs": [
        {
          "output_type": "stream",
          "text": [
            "Nilai MAE adalah:  0.030498423714796833\n"
          ],
          "name": "stdout"
        }
      ]
    },
    {
      "cell_type": "code",
      "metadata": {
        "colab": {
          "base_uri": "https://localhost:8080/"
        },
        "id": "MQRNqsVS4riX",
        "outputId": "13f9f60c-f97b-4dec-a32c-25274027957e"
      },
      "source": [
        "n_r2 = r2(y_norm, y)\n",
        "print (\"Nilai R2 adalah: \", n_r2)"
      ],
      "execution_count": null,
      "outputs": [
        {
          "output_type": "stream",
          "text": [
            "Nilai R2 adalah:  0.983363863008388\n"
          ],
          "name": "stdout"
        }
      ]
    },
    {
      "cell_type": "code",
      "metadata": {
        "colab": {
          "base_uri": "https://localhost:8080/",
          "height": 552
        },
        "id": "mQLc7Qmb4soI",
        "outputId": "472030c7-d4cc-4bb6-943a-4bb7e81e3c1f"
      },
      "source": [
        "#Prediksi Tahun 2015-2030\n",
        "x = np.linspace(2015,2030, 55)\n",
        "x2 = x\n",
        "x = x/max(x)\n",
        "plt.figure(figsize=(8,5))\n",
        "y = sigmoid(x, *popt)\n",
        "# plt.plot(x_norm,y_norm,'ro', label='data')\n",
        "plt.plot(x2,y, linewidth=3.0, label='Predict')\n",
        "plt.legend(loc='best')\n",
        "plt.ylabel('GDP')\n",
        "plt.xlabel('Year')\n",
        "plt.show()\n",
        "print(\"Data \\n\", y)\n",
        "# print(\"Data Asli\", y_norm)\n",
        "from sklearn.metrics import mean_absolute_error\n",
        "mean_absolute_error(y_norm, y)"
      ],
      "execution_count": null,
      "outputs": [
        {
          "output_type": "display_data",
          "data": {
            "image/png": "[encoded data removed]",
            "text/plain": [
              "<Figure size 576x360 with 1 Axes>"
            ]
          },
          "metadata": {
            "tags": [],
            "needs_background": "light"
          }
        },
        {
          "output_type": "stream",
          "text": [
            "Data \n",
            " [0.04017434 0.04397999 0.04812807 0.05264583 0.05756204 0.06290684\n",
            " 0.06871175 0.07500944 0.08183361 0.08921875 0.09719982 0.10581188\n",
            " 0.11508972 0.12506727 0.1357771  0.14724969 0.15951274 0.17259036\n",
            " 0.18650224 0.20126274 0.21687999 0.23335505 0.25068099 0.26884223\n",
            " 0.28781383 0.30756106 0.32803909 0.34919301 0.37095799 0.39325981\n",
            " 0.4160157  0.43913532 0.46252218 0.48607513 0.50969008 0.53326186\n",
            " 0.55668607 0.57986089 0.60268887 0.62507848 0.64694549 0.66821407\n",
            " 0.68881769 0.70869961 0.7278132  0.74612192 0.76359912 0.78022757\n",
            " 0.79599885 0.81091263 0.82497586 0.83820184 0.85060936 0.8622218\n",
            " 0.87306629]\n"
          ],
          "name": "stdout"
        },
        {
          "output_type": "execute_result",
          "data": {
            "text/plain": [
              "0.2654521327044867"
            ]
          },
          "metadata": {
            "tags": []
          },
          "execution_count": 21
        }
      ]
    },
    {
      "cell_type": "code",
      "metadata": {
        "id": "n-YL-oo-4uyr"
      },
      "source": [
        ""
      ],
      "execution_count": null,
      "outputs": []
    }
  ]
}