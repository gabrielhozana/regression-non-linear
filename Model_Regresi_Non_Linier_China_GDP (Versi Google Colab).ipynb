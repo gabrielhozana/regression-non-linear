{
  "nbformat": 4,
  "nbformat_minor": 0,
  "metadata": {
    "colab": {
      "name": "Model Regresi Non-Linier China GDP .ipynb",
      "provenance": [],
      "collapsed_sections": []
    },
    "kernelspec": {
      "name": "python3",
      "display_name": "Python 3"
    }
  },
  "cells": [
    {
      "cell_type": "code",
      "metadata": {
        "id": "twB1tVR_2RAa"
      },
      "source": [
        "# Nama: Gabril Hozanna\n",
        "# Kelas: 3B TKJ\n",
        "# NIM: 42517042\n",
        "\n",
        "import pandas as pd\n",
        "from scipy.stats import pearsonr\n",
        "from matplotlib import pyplot as plt\n",
        "import numpy as np \n",
        "from sklearn import linear_model"
      ],
      "execution_count": 1,
      "outputs": []
    },
    {
      "cell_type": "code",
      "metadata": {
        "colab": {
          "base_uri": "https://localhost:8080/",
          "height": 206
        },
        "id": "q1pCoaHk3faP",
        "outputId": "1b283488-390b-454f-d717-bc9e6761dde7"
      },
      "source": [
        "df = pd.read_csv(\"china_gdp.csv\")\n",
        "df.head()"
      ],
      "execution_count": 2,
      "outputs": [
        {
          "output_type": "execute_result",
          "data": {
            "text/html": [
              "<div>\n",
              "<style scoped>\n",
              "    .dataframe tbody tr th:only-of-type {\n",
              "        vertical-align: middle;\n",
              "    }\n",
              "\n",
              "    .dataframe tbody tr th {\n",
              "        vertical-align: top;\n",
              "    }\n",
              "\n",
              "    .dataframe thead th {\n",
              "        text-align: right;\n",
              "    }\n",
              "</style>\n",
              "<table border=\"1\" class=\"dataframe\">\n",
              "  <thead>\n",
              "    <tr style=\"text-align: right;\">\n",
              "      <th></th>\n",
              "      <th>Year</th>\n",
              "      <th>Value</th>\n",
              "    </tr>\n",
              "  </thead>\n",
              "  <tbody>\n",
              "    <tr>\n",
              "      <th>0</th>\n",
              "      <td>1960</td>\n",
              "      <td>5.918412e+10</td>\n",
              "    </tr>\n",
              "    <tr>\n",
              "      <th>1</th>\n",
              "      <td>1961</td>\n",
              "      <td>4.955705e+10</td>\n",
              "    </tr>\n",
              "    <tr>\n",
              "      <th>2</th>\n",
              "      <td>1962</td>\n",
              "      <td>4.668518e+10</td>\n",
              "    </tr>\n",
              "    <tr>\n",
              "      <th>3</th>\n",
              "      <td>1963</td>\n",
              "      <td>5.009730e+10</td>\n",
              "    </tr>\n",
              "    <tr>\n",
              "      <th>4</th>\n",
              "      <td>1964</td>\n",
              "      <td>5.906225e+10</td>\n",
              "    </tr>\n",
              "  </tbody>\n",
              "</table>\n",
              "</div>"
            ],
            "text/plain": [
              "   Year         Value\n",
              "0  1960  5.918412e+10\n",
              "1  1961  4.955705e+10\n",
              "2  1962  4.668518e+10\n",
              "3  1963  5.009730e+10\n",
              "4  1964  5.906225e+10"
            ]
          },
          "metadata": {
            "tags": []
          },
          "execution_count": 2
        }
      ]
    },
    {
      "cell_type": "code",
      "metadata": {
        "colab": {
          "base_uri": "https://localhost:8080/",
          "height": 300
        },
        "id": "pGaYzFA_4FIn",
        "outputId": "1cd23b32-fa3e-489d-d3a7-196fe64e730e"
      },
      "source": [
        "df.describe()"
      ],
      "execution_count": 3,
      "outputs": [
        {
          "output_type": "execute_result",
          "data": {
            "text/html": [
              "<div>\n",
              "<style scoped>\n",
              "    .dataframe tbody tr th:only-of-type {\n",
              "        vertical-align: middle;\n",
              "    }\n",
              "\n",
              "    .dataframe tbody tr th {\n",
              "        vertical-align: top;\n",
              "    }\n",
              "\n",
              "    .dataframe thead th {\n",
              "        text-align: right;\n",
              "    }\n",
              "</style>\n",
              "<table border=\"1\" class=\"dataframe\">\n",
              "  <thead>\n",
              "    <tr style=\"text-align: right;\">\n",
              "      <th></th>\n",
              "      <th>Year</th>\n",
              "      <th>Value</th>\n",
              "    </tr>\n",
              "  </thead>\n",
              "  <tbody>\n",
              "    <tr>\n",
              "      <th>count</th>\n",
              "      <td>55.00000</td>\n",
              "      <td>5.500000e+01</td>\n",
              "    </tr>\n",
              "    <tr>\n",
              "      <th>mean</th>\n",
              "      <td>1987.00000</td>\n",
              "      <td>1.437042e+12</td>\n",
              "    </tr>\n",
              "    <tr>\n",
              "      <th>std</th>\n",
              "      <td>16.02082</td>\n",
              "      <td>2.500085e+12</td>\n",
              "    </tr>\n",
              "    <tr>\n",
              "      <th>min</th>\n",
              "      <td>1960.00000</td>\n",
              "      <td>4.668518e+10</td>\n",
              "    </tr>\n",
              "    <tr>\n",
              "      <th>25%</th>\n",
              "      <td>1973.50000</td>\n",
              "      <td>1.395123e+11</td>\n",
              "    </tr>\n",
              "    <tr>\n",
              "      <th>50%</th>\n",
              "      <td>1987.00000</td>\n",
              "      <td>3.074796e+11</td>\n",
              "    </tr>\n",
              "    <tr>\n",
              "      <th>75%</th>\n",
              "      <td>2000.50000</td>\n",
              "      <td>1.268748e+12</td>\n",
              "    </tr>\n",
              "    <tr>\n",
              "      <th>max</th>\n",
              "      <td>2014.00000</td>\n",
              "      <td>1.035483e+13</td>\n",
              "    </tr>\n",
              "  </tbody>\n",
              "</table>\n",
              "</div>"
            ],
            "text/plain": [
              "             Year         Value\n",
              "count    55.00000  5.500000e+01\n",
              "mean   1987.00000  1.437042e+12\n",
              "std      16.02082  2.500085e+12\n",
              "min    1960.00000  4.668518e+10\n",
              "25%    1973.50000  1.395123e+11\n",
              "50%    1987.00000  3.074796e+11\n",
              "75%    2000.50000  1.268748e+12\n",
              "max    2014.00000  1.035483e+13"
            ]
          },
          "metadata": {
            "tags": []
          },
          "execution_count": 3
        }
      ]
    },
    {
      "cell_type": "code",
      "metadata": {
        "colab": {
          "base_uri": "https://localhost:8080/"
        },
        "id": "9S7jt-MN4IuU",
        "outputId": "963da575-aaca-4c66-c753-7123cd07eed7"
      },
      "source": [
        "len(df)"
      ],
      "execution_count": 4,
      "outputs": [
        {
          "output_type": "execute_result",
          "data": {
            "text/plain": [
              "55"
            ]
          },
          "metadata": {
            "tags": []
          },
          "execution_count": 4
        }
      ]
    },
    {
      "cell_type": "code",
      "metadata": {
        "colab": {
          "base_uri": "https://localhost:8080/",
          "height": 345
        },
        "id": "p_Sa7uj24KKZ",
        "outputId": "0dbfe25c-5d30-4d58-faf6-957f0ce83a16"
      },
      "source": [
        "plt.figure(figsize=(8,5))\n",
        "x_data, y_data = (df[\"Year\"].values, df[\"Value\"].values)\n",
        "plt.plot(x_data,y_data,'ro')\n",
        "plt.ylabel('GDP')\n",
        "plt.xlabel('Year')\n",
        "plt.show()"
      ],
      "execution_count": 5,
      "outputs": [
        {
          "output_type": "display_data",
          "data": {
            "image/png": "[encoded data removed]",
            "text/plain": [
              "<Figure size 576x360 with 1 Axes>"
            ]
          },
          "metadata": {
            "tags": [],
            "needs_background": "light"
          }
        }
      ]
    },
    {
      "cell_type": "code",
      "metadata": {
        "id": "owFALbfA4Lez"
      },
      "source": [
        "#hasil visualisasi dari dataset bentuknya eksponensial\n",
        "#buat module/fungsi\n",
        "def sigmoid(x, beta_1, beta_2):\n",
        "    y = 1 / (1+np.exp(-beta_1*(x-beta_2)))\n",
        "    return y"
      ],
      "execution_count": 6,
      "outputs": []
    },
    {
      "cell_type": "code",
      "metadata": {
        "colab": {
          "base_uri": "https://localhost:8080/",
          "height": 276
        },
        "id": "hbdBje5Z4M9H",
        "outputId": "612350e8-3b21-4b03-8d0d-0fd63001a0ac"
      },
      "source": [
        "#testing model\n",
        "beta_1 = 0.1\n",
        "beta_2 = 1990.0\n",
        "\n",
        "#logistic function\n",
        "y_pred = sigmoid(x_data, beta_1, beta_2)\n",
        "\n",
        "#plot initial prediction against datapoint\n",
        "plt.plot(x_data,y_pred*15000000000000)\n",
        "plt.plot(x_data,y_data,'ro')\n",
        "plt.show()"
      ],
      "execution_count": 7,
      "outputs": [
        {
          "output_type": "display_data",
          "data": {
            "image/png": "[encoded data removed]",
            "text/plain": [
              "<Figure size 432x288 with 1 Axes>"
            ]
          },
          "metadata": {
            "tags": [],
            "needs_background": "light"
          }
        }
      ]
    },
    {
      "cell_type": "code",
      "metadata": {
        "id": "8JbbVb-M4Phi"
      },
      "source": [
        "#normalisasi data\n",
        "x_norm = x_data/max(x_data)\n",
        "y_norm = y_data/max(y_data)"
      ],
      "execution_count": 8,
      "outputs": []
    },
    {
      "cell_type": "code",
      "metadata": {
        "colab": {
          "base_uri": "https://localhost:8080/"
        },
        "id": "4Wu_V8DS4RP7",
        "outputId": "a160dd68-852b-4afd-951a-5a240de4ba9f"
      },
      "source": [
        "#menentukan nilai parameter\n",
        "from scipy.optimize import curve_fit\n",
        "popt, pcov = curve_fit(sigmoid, x_norm, y_norm)\n",
        "print(\"beta_1 = %f, beta_2 = %f\" % (popt[0], popt[1]))"
      ],
      "execution_count": 9,
      "outputs": [
        {
          "output_type": "stream",
          "text": [
            "beta_1 = 690.453017, beta_2 = 0.997207\n"
          ],
          "name": "stdout"
        }
      ]
    },
    {
      "cell_type": "code",
      "metadata": {
        "colab": {
          "base_uri": "https://localhost:8080/",
          "height": 334
        },
        "id": "x2IUiGXz4Sap",
        "outputId": "d6fff521-ce26-4623-b439-bad27b7ce5b6"
      },
      "source": [
        "x = np.linspace(1960,2015, 55)\n",
        "x = x/max(x)\n",
        "plt.figure(figsize=(8,5))\n",
        "y = sigmoid(x, *popt)\n",
        "plt.plot(x_norm,y_norm,'ro', label='data')\n",
        "plt.plot(x,y, linewidth=3.0, label='fit')\n",
        "plt.legend(loc='best')\n",
        "plt.ylabel('GDP')\n",
        "plt.xlabel('Year')\n",
        "plt.show()"
      ],
      "execution_count": 10,
      "outputs": [
        {
          "output_type": "display_data",
          "data": {
            "image/png": "[encoded data removed]",
            "text/plain": [
              "<Figure size 576x360 with 1 Axes>"
            ]
          },
          "metadata": {
            "tags": [],
            "needs_background": "light"
          }
        }
      ]
    },
    {
      "cell_type": "code",
      "metadata": {
        "colab": {
          "base_uri": "https://localhost:8080/"
        },
        "id": "1cMM4RD04Uvw",
        "outputId": "c5b6f151-3585-4bb6-de4b-cbc6136da369"
      },
      "source": [
        "from sklearn.metrics import mean_absolute_error\n",
        "mean_absolute_error(y_norm, y)"
      ],
      "execution_count": 11,
      "outputs": [
        {
          "output_type": "execute_result",
          "data": {
            "text/plain": [
              "0.030498423714796833"
            ]
          },
          "metadata": {
            "tags": []
          },
          "execution_count": 11
        }
      ]
    },
    {
      "cell_type": "code",
      "metadata": {
        "colab": {
          "base_uri": "https://localhost:8080/"
        },
        "id": "PAvbrklW4XWI",
        "outputId": "7e018a35-b3f1-41bb-8a9c-726d8a2470ac"
      },
      "source": [
        "from sklearn.metrics import mean_squared_error\n",
        "mean_squared_error(y_norm, y)"
      ],
      "execution_count": 12,
      "outputs": [
        {
          "output_type": "execute_result",
          "data": {
            "text/plain": [
              "0.0015679275027813092"
            ]
          },
          "metadata": {
            "tags": []
          },
          "execution_count": 12
        }
      ]
    },
    {
      "cell_type": "code",
      "metadata": {
        "colab": {
          "base_uri": "https://localhost:8080/"
        },
        "id": "DcwyhT1q4Yst",
        "outputId": "8e708d60-2d44-4fc5-f540-5c3e4a804632"
      },
      "source": [
        "from sklearn.metrics import r2_score\n",
        "r2_score(y_norm, y)"
      ],
      "execution_count": 13,
      "outputs": [
        {
          "output_type": "execute_result",
          "data": {
            "text/plain": [
              "0.9726049828239046"
            ]
          },
          "metadata": {
            "tags": []
          },
          "execution_count": 13
        }
      ]
    },
    {
      "cell_type": "code",
      "metadata": {
        "id": "XHWhgHbe4Zwh"
      },
      "source": [
        "#Membuat fungsi hitung MAE\n",
        "#x disini adalah y atau nilai dari y asli\n",
        "#y disini adalah y hasil prediksi\n",
        "def mae(x,y):\n",
        "    summation = 0 #variabel sigma\n",
        "    n = len(y)\n",
        "    \n",
        "    for i in range (0,n):\n",
        "        difference = x[i]-y[i]\n",
        "        absolute = abs(difference)\n",
        "        summation = summation + absolute\n",
        "    \n",
        "    summation = summation/n\n",
        "    return summation\n"
      ],
      "execution_count": 14,
      "outputs": []
    },
    {
      "cell_type": "code",
      "metadata": {
        "id": "Z-6LcRRd4fX5"
      },
      "source": [
        "#Membuat fungsi hitung MSE\n",
        "#x disini adalah y atau nilai dari y asli\n",
        "#y disini adalah y hasil prediksi\n",
        "def mse(x,y): \n",
        "    summation = 0 #variabel untuk menyimpan penjumlahan perbedaan (sigma)\n",
        "    n = len(y) #banyaknya jumlah n atau item pada list\n",
        "    \n",
        "    for i in range (0,n):\n",
        "        difference = x[i] - y [i] \n",
        "        squared_difference = difference**2 #pangkat duakan dari kedua variabel\n",
        "        summation = summation + squared_difference #jumlah dari hasil perhitungan variabel\n",
        "    \n",
        "    summation = summation/n #banyaknya hasil perhitungan dibagi total nilai n\n",
        "    return summation"
      ],
      "execution_count": 15,
      "outputs": []
    },
    {
      "cell_type": "code",
      "metadata": {
        "id": "7g1JxkbF4jMb"
      },
      "source": [
        "#Membuat fungsi hitung R2\n",
        "#x disini adalah y atau nilai dari y asli\n",
        "#y disini adalah y hasil prediksi\n",
        "def r2(x,y):\n",
        "    summation = 0\n",
        "    n = len(y)\n",
        "    \n",
        "    for i in range(0,n):\n",
        "        difference_1 = x[i] - y[i]\n",
        "        squared_difference_1 = difference_1**2\n",
        "        summation_1 = summation + squared_difference_1 #cari niali sigma pertama\n",
        "#         n_y = summation + y[i] \n",
        "#         avg = n_y/n\n",
        "        avg = y[i]/n\n",
        "        difference_2 = x[i] - avg\n",
        "        squared_difference_2 = difference_2**2\n",
        "        summation_2 = summation + squared_difference_2 #cari nilai sigma kedua\n",
        "#         rse = 1 - summation_1/summation_2 #opsi 1\n",
        "        rse = summation_1/summation_2 #opsi 2\n",
        "    \n",
        "#     summation = rse #opsi 1\n",
        "    summation = 1- rse #opsi 2\n",
        "    return summation "
      ],
      "execution_count": 16,
      "outputs": []
    },
    {
      "cell_type": "code",
      "metadata": {
        "colab": {
          "base_uri": "https://localhost:8080/"
        },
        "id": "lHzsKDo94pB1",
        "outputId": "9e59a582-fb05-4a23-a9ac-38475d2238fd"
      },
      "source": [
        "n_mse = mse(y_norm, y)\n",
        "print (\"Nilai MSE adalah: \", n_mse)"
      ],
      "execution_count": 17,
      "outputs": [
        {
          "output_type": "stream",
          "text": [
            "Nilai MSE adalah:  0.0015679275027813092\n"
          ],
          "name": "stdout"
        }
      ]
    },
    {
      "cell_type": "code",
      "metadata": {
        "colab": {
          "base_uri": "https://localhost:8080/"
        },
        "id": "wXN--vgw4qbf",
        "outputId": "4a16763d-456c-4919-e856-63be491d6a62"
      },
      "source": [
        "n_mae = mae(y_norm,y)\n",
        "print (\"Nilai MAE adalah: \", n_mae)"
      ],
      "execution_count": 18,
      "outputs": [
        {
          "output_type": "stream",
          "text": [
            "Nilai MAE adalah:  0.030498423714796833\n"
          ],
          "name": "stdout"
        }
      ]
    },
    {
      "cell_type": "code",
      "metadata": {
        "colab": {
          "base_uri": "https://localhost:8080/"
        },
        "id": "MQRNqsVS4riX",
        "outputId": "a1a0b43f-f32b-4960-b5b7-31016e25e5fa"
      },
      "source": [
        "n_r2 = r2(y_norm, y)\n",
        "print (\"Nilai R2 adalah: \", n_r2)"
      ],
      "execution_count": 19,
      "outputs": [
        {
          "output_type": "stream",
          "text": [
            "Nilai R2 adalah:  0.983363863008388\n"
          ],
          "name": "stdout"
        }
      ]
    },
    {
      "cell_type": "code",
      "metadata": {
        "colab": {
          "base_uri": "https://localhost:8080/",
          "height": 588
        },
        "id": "mQLc7Qmb4soI",
        "outputId": "87a5ff47-eb7b-473e-9485-1f0fa9a234d0"
      },
      "source": [
        "#Prediksi Tahun 2015-2030\n",
        "x_pred = np.linspace(2015,2030, 55)\n",
        "# x2 = x_pred\n",
        "x_pred = x_pred/max(x_data)\n",
        "plt.figure(figsize=(8,5))\n",
        "y = sigmoid(x_pred, *popt)\n",
        "# plt.plot(x_norm,y_norm,'ro', label='data')\n",
        "plt.plot(x_pred,y, linewidth=3.0, label='Predict')\n",
        "plt.legend(loc='best')\n",
        "plt.ylabel('GDP')\n",
        "plt.xlabel('Year')\n",
        "plt.show()\n",
        "print(\"Data Prediksi:\\n\", y)\n",
        "# print(\"Data Asli\", y_norm)\n",
        "print(\"\\nMSE dari Prediksi 2015-2030 adalah: \")\n",
        "from sklearn.metrics import mean_absolute_error\n",
        "mean_absolute_error(y_norm, y)"
      ],
      "execution_count": 20,
      "outputs": [
        {
          "output_type": "display_data",
          "data": {
            "image/png": "[encoded data removed]",
            "text/plain": [
              "<Figure size 576x360 with 1 Axes>"
            ]
          },
          "metadata": {
            "tags": [],
            "needs_background": "light"
          }
        },
        {
          "output_type": "stream",
          "text": [
            "Data Prediksi:\n",
            " [0.90646131 0.91422921 0.92140796 0.92803317 0.9341398  0.9397619\n",
            " 0.94493236 0.94968278 0.95404334 0.9580427  0.96170799 0.96506477\n",
            " 0.96813702 0.97094724 0.97351638 0.97586398 0.97800818 0.97996581\n",
            " 0.98175242 0.98338241 0.98486905 0.98622455 0.98746016 0.98858623\n",
            " 0.98961224 0.9905469  0.99139819 0.99217343 0.9928793  0.99352193\n",
            " 0.9941069  0.99463934 0.9951239  0.99556486 0.99596611 0.99633118\n",
            " 0.99666333 0.9969655  0.99724038 0.99749043 0.99771786 0.99792473\n",
            " 0.99811289 0.99828401 0.99843964 0.99858118 0.99870989 0.99882694\n",
            " 0.99893338 0.99903018 0.99911819 0.99919823 0.99927101 0.99933718\n",
            " 0.99939735]\n",
            "\n",
            "MSE dari Prediksi 2015-2030 adalah: \n"
          ],
          "name": "stdout"
        },
        {
          "output_type": "execute_result",
          "data": {
            "text/plain": [
              "0.8417389417586818"
            ]
          },
          "metadata": {
            "tags": []
          },
          "execution_count": 20
        }
      ]
    },
    {
      "cell_type": "code",
      "metadata": {
        "id": "n-YL-oo-4uyr"
      },
      "source": [
        ""
      ],
      "execution_count": 20,
      "outputs": []
    }
  ]
}